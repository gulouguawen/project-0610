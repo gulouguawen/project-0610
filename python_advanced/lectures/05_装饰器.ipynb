{
 "cells": [
  {
   "cell_type": "markdown",
   "metadata": {},
   "source": [
    "# Python Adv.\n",
    "\n",
    "## 装饰器 `Decorator`\n",
    "\n",
    "> Decorator 的作用：不修改其他函数或类代码的前提下，动态增加其他函数或类的功能\n",
    "\n",
    "> Decorator 的本质：一个返回函数或类对象的高阶函数或类\n",
    "\n",
    "> 类比：AOP `Aspect` 切面/方面\n",
    "\n",
    "> 场景：日志 / 性能 / 事务 / 缓存 / 权限\n"
   ]
  },
  {
   "cell_type": "markdown",
   "metadata": {},
   "source": [
    "## `__name__`"
   ]
  },
  {
   "cell_type": "code",
   "execution_count": 1,
   "metadata": {
    "ExecuteTime": {
     "end_time": "2019-06-14T00:47:02.557808Z",
     "start_time": "2019-06-14T00:47:02.540807Z"
    }
   },
   "outputs": [
    {
     "data": {
      "text/plain": [
       "4"
      ]
     },
     "execution_count": 1,
     "metadata": {},
     "output_type": "execute_result"
    }
   ],
   "source": [
    "def f(x):\n",
    "    return x * x\n",
    "\n",
    "t = f\n",
    "\n",
    "t(2)"
   ]
  },
  {
   "cell_type": "code",
   "execution_count": 2,
   "metadata": {
    "ExecuteTime": {
     "end_time": "2019-06-14T00:47:18.223704Z",
     "start_time": "2019-06-14T00:47:18.217704Z"
    }
   },
   "outputs": [
    {
     "data": {
      "text/plain": [
       "'f'"
      ]
     },
     "execution_count": 2,
     "metadata": {},
     "output_type": "execute_result"
    }
   ],
   "source": [
    "f.__name__"
   ]
  },
  {
   "cell_type": "code",
   "execution_count": 3,
   "metadata": {
    "ExecuteTime": {
     "end_time": "2019-06-14T00:47:24.565067Z",
     "start_time": "2019-06-14T00:47:24.562067Z"
    }
   },
   "outputs": [
    {
     "data": {
      "text/plain": [
       "'f'"
      ]
     },
     "execution_count": 3,
     "metadata": {},
     "output_type": "execute_result"
    }
   ],
   "source": [
    "t.__name__"
   ]
  },
  {
   "cell_type": "markdown",
   "metadata": {},
   "source": [
    "## Every thing in Python is object"
   ]
  },
  {
   "cell_type": "code",
   "execution_count": 7,
   "metadata": {
    "ExecuteTime": {
     "end_time": "2019-06-14T00:49:02.036642Z",
     "start_time": "2019-06-14T00:49:02.030641Z"
    }
   },
   "outputs": [
    {
     "name": "stdout",
     "output_type": "stream",
     "text": [
      "hi Python\n"
     ]
    }
   ],
   "source": [
    "def hi(name='Python'):\n",
    "    print('hi', name)\n",
    "\n",
    "hi()"
   ]
  },
  {
   "cell_type": "code",
   "execution_count": 9,
   "metadata": {
    "ExecuteTime": {
     "end_time": "2019-06-14T00:49:25.866005Z",
     "start_time": "2019-06-14T00:49:25.862005Z"
    }
   },
   "outputs": [
    {
     "name": "stdout",
     "output_type": "stream",
     "text": [
      "hi Python\n"
     ]
    }
   ],
   "source": [
    "hello = hi\n",
    "hello()"
   ]
  },
  {
   "cell_type": "code",
   "execution_count": 10,
   "metadata": {
    "ExecuteTime": {
     "end_time": "2019-06-14T00:49:34.023471Z",
     "start_time": "2019-06-14T00:49:34.013471Z"
    }
   },
   "outputs": [
    {
     "ename": "NameError",
     "evalue": "name 'hi' is not defined",
     "output_type": "error",
     "traceback": [
      "\u001b[1;31m---------------------------------------------------------------------------\u001b[0m",
      "\u001b[1;31mNameError\u001b[0m                                 Traceback (most recent call last)",
      "\u001b[1;32m<ipython-input-10-7f08fdbbfc80>\u001b[0m in \u001b[0;36m<module>\u001b[1;34m\u001b[0m\n\u001b[0;32m      1\u001b[0m \u001b[1;32mdel\u001b[0m \u001b[0mhi\u001b[0m\u001b[1;33m\u001b[0m\u001b[1;33m\u001b[0m\u001b[0m\n\u001b[1;32m----> 2\u001b[1;33m \u001b[0mhi\u001b[0m\u001b[1;33m(\u001b[0m\u001b[1;33m)\u001b[0m\u001b[1;33m\u001b[0m\u001b[1;33m\u001b[0m\u001b[0m\n\u001b[0m",
      "\u001b[1;31mNameError\u001b[0m: name 'hi' is not defined"
     ]
    }
   ],
   "source": [
    "del hi\n",
    "hi()"
   ]
  },
  {
   "cell_type": "code",
   "execution_count": 11,
   "metadata": {
    "ExecuteTime": {
     "end_time": "2019-06-14T00:49:42.694967Z",
     "start_time": "2019-06-14T00:49:42.691967Z"
    }
   },
   "outputs": [
    {
     "name": "stdout",
     "output_type": "stream",
     "text": [
      "hi Python\n"
     ]
    }
   ],
   "source": [
    "hello()"
   ]
  },
  {
   "cell_type": "markdown",
   "metadata": {},
   "source": [
    "## Define a function in another function"
   ]
  },
  {
   "cell_type": "code",
   "execution_count": 12,
   "metadata": {
    "ExecuteTime": {
     "end_time": "2019-06-14T00:52:07.672260Z",
     "start_time": "2019-06-14T00:52:07.665259Z"
    }
   },
   "outputs": [
    {
     "name": "stdout",
     "output_type": "stream",
     "text": [
      "--- come in function hi ---\n",
      "function hi_a\n",
      "function hi_b\n",
      "--- back in function hi ---\n"
     ]
    }
   ],
   "source": [
    "def hi(name='Python'):\n",
    "    \n",
    "    print('---', 'come in function hi', '---')\n",
    "    \n",
    "    def hi_a():\n",
    "        return 'function hi_a'\n",
    "        \n",
    "    def hi_b():\n",
    "        return 'function hi_b'\n",
    "        \n",
    "    print(hi_a())\n",
    "    print(hi_b())\n",
    "    \n",
    "    print('---', 'back in function hi', '---')\n",
    "    \n",
    "    \n",
    "hi()"
   ]
  },
  {
   "cell_type": "code",
   "execution_count": 19,
   "metadata": {
    "ExecuteTime": {
     "end_time": "2019-06-12T09:13:00.896452Z",
     "start_time": "2019-06-12T09:13:00.888451Z"
    }
   },
   "outputs": [
    {
     "ename": "NameError",
     "evalue": "name 'hi_a' is not defined",
     "output_type": "error",
     "traceback": [
      "\u001b[1;31m---------------------------------------------------------------------------\u001b[0m",
      "\u001b[1;31mNameError\u001b[0m                                 Traceback (most recent call last)",
      "\u001b[1;32m<ipython-input-19-f4665a1cbbd3>\u001b[0m in \u001b[0;36m<module>\u001b[1;34m\u001b[0m\n\u001b[1;32m----> 1\u001b[1;33m \u001b[0mhi_a\u001b[0m\u001b[1;33m(\u001b[0m\u001b[1;33m)\u001b[0m\u001b[1;33m\u001b[0m\u001b[1;33m\u001b[0m\u001b[0m\n\u001b[0m",
      "\u001b[1;31mNameError\u001b[0m: name 'hi_a' is not defined"
     ]
    }
   ],
   "source": [
    "hi_a()"
   ]
  },
  {
   "cell_type": "markdown",
   "metadata": {},
   "source": [
    "## Return a function from another function"
   ]
  },
  {
   "cell_type": "code",
   "execution_count": 16,
   "metadata": {
    "ExecuteTime": {
     "end_time": "2019-06-14T01:07:31.745114Z",
     "start_time": "2019-06-14T01:07:31.736113Z"
    }
   },
   "outputs": [
    {
     "data": {
      "text/plain": [
       "<function __main__.hi.<locals>.hi_a()>"
      ]
     },
     "execution_count": 16,
     "metadata": {},
     "output_type": "execute_result"
    }
   ],
   "source": [
    "def hi(name='Python'):\n",
    "    \n",
    "    def hi_a():\n",
    "        return 'function hi_a'\n",
    "        \n",
    "    def hi_b():\n",
    "        return 'function hi_b'\n",
    "    \n",
    "    if name == 'Python':\n",
    "        return hi_a\n",
    "    else:\n",
    "        return hi_b\n",
    "    \n",
    "a = hi()\n",
    "a\n",
    "# hi('Java')()"
   ]
  },
  {
   "cell_type": "code",
   "execution_count": 17,
   "metadata": {
    "ExecuteTime": {
     "end_time": "2019-06-14T01:07:37.279430Z",
     "start_time": "2019-06-14T01:07:37.270430Z"
    }
   },
   "outputs": [
    {
     "data": {
      "text/plain": [
       "'function hi_a'"
      ]
     },
     "execution_count": 17,
     "metadata": {},
     "output_type": "execute_result"
    }
   ],
   "source": [
    "a()"
   ]
  },
  {
   "cell_type": "code",
   "execution_count": 18,
   "metadata": {
    "ExecuteTime": {
     "end_time": "2019-06-14T01:07:43.272773Z",
     "start_time": "2019-06-14T01:07:43.268773Z"
    }
   },
   "outputs": [
    {
     "data": {
      "text/plain": [
       "'function hi_a'"
      ]
     },
     "execution_count": 18,
     "metadata": {},
     "output_type": "execute_result"
    }
   ],
   "source": [
    "hi()()"
   ]
  },
  {
   "cell_type": "markdown",
   "metadata": {},
   "source": [
    "## Pass a function as a parameter"
   ]
  },
  {
   "cell_type": "code",
   "execution_count": 26,
   "metadata": {
    "ExecuteTime": {
     "end_time": "2019-06-12T09:21:45.525459Z",
     "start_time": "2019-06-12T09:21:45.519459Z"
    }
   },
   "outputs": [
    {
     "name": "stdout",
     "output_type": "stream",
     "text": [
      "do something before a function\n",
      "hi Python\n"
     ]
    }
   ],
   "source": [
    "def hi(name='Python'):\n",
    "    print('hi', name)\n",
    "    \n",
    "def before(func):\n",
    "    print('do something before a function')\n",
    "    func()\n",
    "    \n",
    "before(hi)"
   ]
  },
  {
   "cell_type": "markdown",
   "metadata": {},
   "source": [
    "## A decorator"
   ]
  },
  {
   "cell_type": "code",
   "execution_count": 7,
   "metadata": {
    "ExecuteTime": {
     "end_time": "2019-06-13T09:02:42.593043Z",
     "start_time": "2019-06-13T09:02:42.589043Z"
    }
   },
   "outputs": [
    {
     "name": "stdout",
     "output_type": "stream",
     "text": [
      "funcion f...\n"
     ]
    }
   ],
   "source": [
    "def a_decorator(func):\n",
    "    \n",
    "    def wrapper():\n",
    "        print(func.__name__, 'before...')\n",
    "        func()\n",
    "        print(func.__name__, 'after...')\n",
    "        \n",
    "    \n",
    "    return wrapper\n",
    "\n",
    "\n",
    "def f():\n",
    "    print('funcion f...')\n",
    "    \n",
    "    \n",
    "f()"
   ]
  },
  {
   "cell_type": "code",
   "execution_count": 8,
   "metadata": {
    "ExecuteTime": {
     "end_time": "2019-06-13T09:02:44.734166Z",
     "start_time": "2019-06-13T09:02:44.731166Z"
    }
   },
   "outputs": [
    {
     "name": "stdout",
     "output_type": "stream",
     "text": [
      "before...\n",
      "funcion f...\n",
      "after...\n"
     ]
    }
   ],
   "source": [
    "f = a_decorator(f)\n",
    "\n",
    "f()"
   ]
  },
  {
   "cell_type": "markdown",
   "metadata": {},
   "source": [
    "## Syntactic sugar @"
   ]
  },
  {
   "cell_type": "code",
   "execution_count": 10,
   "metadata": {
    "ExecuteTime": {
     "end_time": "2019-06-13T09:03:36.364119Z",
     "start_time": "2019-06-13T09:03:36.360119Z"
    }
   },
   "outputs": [
    {
     "name": "stdout",
     "output_type": "stream",
     "text": [
      "before...\n",
      "function foo...\n",
      "after...\n"
     ]
    }
   ],
   "source": [
    "@a_decorator\n",
    "def foo():\n",
    "    print('function foo...')\n",
    "    \n",
    "foo()"
   ]
  },
  {
   "cell_type": "markdown",
   "metadata": {},
   "source": [
    "## 复习：函数的参数\n",
    "\n",
    "`*args`\n",
    "`**kwargs`"
   ]
  },
  {
   "cell_type": "markdown",
   "metadata": {},
   "source": [
    "## Function with one parameter"
   ]
  },
  {
   "cell_type": "code",
   "execution_count": 14,
   "metadata": {
    "ExecuteTime": {
     "end_time": "2019-06-13T09:17:07.760528Z",
     "start_time": "2019-06-13T09:17:07.756528Z"
    }
   },
   "outputs": [
    {
     "name": "stdout",
     "output_type": "stream",
     "text": [
      "before...\n",
      "hi Decorator\n",
      "after...\n"
     ]
    }
   ],
   "source": [
    "def a_decorator(func):\n",
    "    \n",
    "    def wrapper(name):\n",
    "        print(func.__name__, 'before...')\n",
    "        func(name)\n",
    "        print(func.__name__, 'after...')\n",
    "        \n",
    "    return wrapper\n",
    "  \n",
    "@a_decorator\n",
    "def foo(name):\n",
    "    print('hi', name)\n",
    "    \n",
    "foo('Decorator')"
   ]
  },
  {
   "cell_type": "markdown",
   "metadata": {
    "ExecuteTime": {
     "end_time": "2019-06-13T09:17:58.384424Z",
     "start_time": "2019-06-13T09:17:58.381424Z"
    }
   },
   "source": [
    "## Function with multiple parameters"
   ]
  },
  {
   "cell_type": "code",
   "execution_count": 4,
   "metadata": {
    "ExecuteTime": {
     "end_time": "2019-06-14T06:19:10.659630Z",
     "start_time": "2019-06-14T06:19:10.653630Z"
    }
   },
   "outputs": [
    {
     "name": "stdout",
     "output_type": "stream",
     "text": [
      "foo before...\n",
      "Email: Tom\n",
      "Password: 123\n",
      "foo after...\n"
     ]
    }
   ],
   "source": [
    "def a_decorator(func):\n",
    "    \n",
    "    def wrapper(*args, **kwargs):\n",
    "        print(func.__name__, 'before...')\n",
    "        func(*args, **kwargs)\n",
    "        print(func.__name__, 'after...')\n",
    "        \n",
    "    return wrapper\n",
    "  \n",
    "@a_decorator\n",
    "def foo(email, password):\n",
    "    print('Email:', email)\n",
    "    print('Password:', password)\n",
    "    \n",
    "foo('Tom', '123')"
   ]
  },
  {
   "cell_type": "markdown",
   "metadata": {},
   "source": [
    "## Class decorator\n",
    "\n",
    "> using `__call__` method"
   ]
  },
  {
   "cell_type": "code",
   "execution_count": 6,
   "metadata": {
    "ExecuteTime": {
     "end_time": "2019-06-14T06:22:23.516661Z",
     "start_time": "2019-06-14T06:22:23.506660Z"
    }
   },
   "outputs": [
    {
     "name": "stdout",
     "output_type": "stream",
     "text": [
      "foo before...\n",
      "function foo...\n",
      "foo before...\n"
     ]
    }
   ],
   "source": [
    "class FooDecorator(object):\n",
    "    \n",
    "    def __init__(self, func):\n",
    "        self.func = func\n",
    "        \n",
    "    def __call__(self):\n",
    "        print(self.func.__name__, 'before...')\n",
    "        self.func()\n",
    "        print(self.func.__name__, 'before...')\n",
    "        \n",
    "@FooDecorator\n",
    "def foo():\n",
    "    print('function foo...')\n",
    "    \n",
    "foo()"
   ]
  },
  {
   "cell_type": "markdown",
   "metadata": {},
   "source": [
    "## Class decorator with parameters"
   ]
  },
  {
   "cell_type": "code",
   "execution_count": 8,
   "metadata": {
    "ExecuteTime": {
     "end_time": "2019-06-14T06:24:06.687562Z",
     "start_time": "2019-06-14T06:24:06.671561Z"
    }
   },
   "outputs": [
    {
     "name": "stdout",
     "output_type": "stream",
     "text": [
      "foo before...\n",
      "a\n",
      "b\n",
      "c\n",
      "1\n",
      "2\n",
      "3\n",
      "True\n",
      "False\n",
      "None\n",
      "foo after...\n"
     ]
    }
   ],
   "source": [
    "class FooDecorator(object):\n",
    "    \n",
    "    def __init__(self, func):\n",
    "        self.func = func\n",
    "        \n",
    "    def __call__(self, *args, **kwargs):\n",
    "        print(self.func.__name__, 'before...')\n",
    "        self.func(*args, **kwargs)\n",
    "        print(self.func.__name__, 'after...')\n",
    "        \n",
    "@FooDecorator\n",
    "def foo(*args):\n",
    "    for arg in args:\n",
    "        print(arg)\n",
    "    \n",
    "foo('a', 'b', 'c', 1, 2, 3, True, False, None)"
   ]
  },
  {
   "cell_type": "markdown",
   "metadata": {},
   "source": [
    "## 练习\n",
    "\n",
    "- 自学 Python 日志处理\n",
    "- 实现一个日志装饰器类"
   ]
  },
  {
   "cell_type": "code",
   "execution_count": 3,
   "metadata": {
    "ExecuteTime": {
     "end_time": "2019-06-14T05:50:11.155136Z",
     "start_time": "2019-06-14T05:50:11.149136Z"
    }
   },
   "outputs": [],
   "source": [
    "import logging\n",
    "\n",
    "logging.basicConfig()\n",
    "logging.debug('debug')"
   ]
  },
  {
   "cell_type": "code",
   "execution_count": 10,
   "metadata": {
    "ExecuteTime": {
     "end_time": "2019-06-14T06:26:11.460699Z",
     "start_time": "2019-06-14T06:26:11.455698Z"
    }
   },
   "outputs": [
    {
     "name": "stderr",
     "output_type": "stream",
     "text": [
      "WARNING:root:警告!\n"
     ]
    }
   ],
   "source": [
    "import logging\n",
    "\n",
    "logging.warning('警告!')"
   ]
  }
 ],
 "metadata": {
  "kernelspec": {
   "display_name": "Python 3",
   "language": "python",
   "name": "python3"
  },
  "language_info": {
   "codemirror_mode": {
    "name": "ipython",
    "version": 3
   },
   "file_extension": ".py",
   "mimetype": "text/x-python",
   "name": "python",
   "nbconvert_exporter": "python",
   "pygments_lexer": "ipython3",
   "version": "3.7.3"
  },
  "toc": {
   "base_numbering": 1,
   "nav_menu": {
    "height": "321px",
    "width": "408px"
   },
   "number_sections": true,
   "sideBar": true,
   "skip_h1_title": false,
   "title_cell": "Table of Contents",
   "title_sidebar": "Contents",
   "toc_cell": false,
   "toc_position": {},
   "toc_section_display": true,
   "toc_window_display": false
  }
 },
 "nbformat": 4,
 "nbformat_minor": 2
}
