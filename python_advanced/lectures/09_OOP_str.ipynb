{
 "cells": [
  {
   "cell_type": "markdown",
   "metadata": {},
   "source": [
    "# Python Adv\n",
    "\n",
    "## OOP `__str__`"
   ]
  },
  {
   "cell_type": "code",
   "execution_count": 18,
   "metadata": {
    "ExecuteTime": {
     "end_time": "2019-06-17T08:56:22.297318Z",
     "start_time": "2019-06-17T08:56:22.283317Z"
    }
   },
   "outputs": [
    {
     "data": {
      "text/plain": [
       "Name: Tom"
      ]
     },
     "execution_count": 18,
     "metadata": {},
     "output_type": "execute_result"
    }
   ],
   "source": [
    "class Human(object):\n",
    "    def __init__(self, name):\n",
    "        self.name = name\n",
    "        \n",
    "    def __str__(self):\n",
    "        return 'Name: %s' % self.name\n",
    "    \n",
    "    __repr__ = __str__\n",
    "\n",
    "tom = Human('Tom')\n",
    "\n",
    "# print(tom)\n",
    "\n",
    "tom\n",
    "\n",
    "\n",
    "\n",
    "# public class Human extends Object { // toString\n",
    "\n",
    "#     private String name;\n",
    "    \n",
    "#     public Human(String name){\n",
    "        \n",
    "#         this.name = name;\n",
    "#     }\n",
    "    \n",
    "#     public String toString() {\n",
    "#         return \"Name: \" + this.name\n",
    "    \n",
    "#     }\n",
    "# }\n",
    "\n",
    "# public static void main(String[] args) {\n",
    "    \n",
    "#     tom = new Human(\"Tom\");\n",
    "\n",
    "#     System.out.println(tom); // packages.Human HEX...  Name: Tom\n",
    "# }\n"
   ]
  }
 ],
 "metadata": {
  "kernelspec": {
   "display_name": "Python 3",
   "language": "python",
   "name": "python3"
  },
  "language_info": {
   "codemirror_mode": {
    "name": "ipython",
    "version": 3
   },
   "file_extension": ".py",
   "mimetype": "text/x-python",
   "name": "python",
   "nbconvert_exporter": "python",
   "pygments_lexer": "ipython3",
   "version": "3.7.3"
  },
  "toc": {
   "base_numbering": 1,
   "nav_menu": {},
   "number_sections": true,
   "sideBar": true,
   "skip_h1_title": false,
   "title_cell": "Table of Contents",
   "title_sidebar": "Contents",
   "toc_cell": false,
   "toc_position": {},
   "toc_section_display": true,
   "toc_window_display": false
  }
 },
 "nbformat": 4,
 "nbformat_minor": 2
}
