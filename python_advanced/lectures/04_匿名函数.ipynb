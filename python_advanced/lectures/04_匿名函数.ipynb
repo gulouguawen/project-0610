{
 "cells": [
  {
   "cell_type": "markdown",
   "metadata": {},
   "source": [
    "# Python Adv."
   ]
  },
  {
   "cell_type": "markdown",
   "metadata": {},
   "source": [
    "## 复习高阶函数 map\n",
    "\n",
    "map 接收两个参数，一个是函数，一个是 Iterable，map 将函数作用于 Iterable 的每个元素，把结果作为 Iterator 返回"
   ]
  },
  {
   "cell_type": "code",
   "execution_count": 3,
   "metadata": {
    "ExecuteTime": {
     "end_time": "2019-06-13T02:24:19.827883Z",
     "start_time": "2019-06-13T02:24:19.821883Z"
    }
   },
   "outputs": [
    {
     "data": {
      "text/plain": [
       "[1, 4, 9]"
      ]
     },
     "execution_count": 3,
     "metadata": {},
     "output_type": "execute_result"
    }
   ],
   "source": [
    "def f(x):\n",
    "    return x * x\n",
    "\n",
    "\n",
    "r = map(f, [1, 2, 3])\n",
    "\n",
    "list(r)"
   ]
  },
  {
   "cell_type": "code",
   "execution_count": 5,
   "metadata": {
    "ExecuteTime": {
     "end_time": "2019-06-13T02:24:36.714849Z",
     "start_time": "2019-06-13T02:24:36.705849Z"
    }
   },
   "outputs": [
    {
     "data": {
      "text/plain": [
       "True"
      ]
     },
     "execution_count": 5,
     "metadata": {},
     "output_type": "execute_result"
    }
   ],
   "source": [
    "from collections import Iterator\n",
    "\n",
    "isinstance(r, Iterator)"
   ]
  },
  {
   "cell_type": "markdown",
   "metadata": {},
   "source": [
    "## 匿名函数\n",
    "\n",
    "> 是一个表达式，传入函数时，不需要显示的定义函数，而是直接传入匿名函数\n",
    "\n",
    "- Python 语法糖\n",
    "- 单一功能函数的替代\n",
    "- 常用于高阶函数\n",
    "- 表达式的特点，用于函数不能使用之处\n",
    "\n",
    "```\n",
    "[1, 2, 3, lambda args: expression]\n",
    "```"
   ]
  },
  {
   "cell_type": "code",
   "execution_count": 9,
   "metadata": {
    "ExecuteTime": {
     "end_time": "2019-06-11T02:08:49.316730Z",
     "start_time": "2019-06-11T02:08:49.311730Z"
    }
   },
   "outputs": [
    {
     "data": {
      "text/plain": [
       "[1, 4, 9]"
      ]
     },
     "execution_count": 9,
     "metadata": {},
     "output_type": "execute_result"
    }
   ],
   "source": [
    "list(map(f, [1, 2, 3]))"
   ]
  },
  {
   "cell_type": "code",
   "execution_count": 11,
   "metadata": {
    "ExecuteTime": {
     "end_time": "2019-06-11T02:10:23.843137Z",
     "start_time": "2019-06-11T02:10:23.838136Z"
    }
   },
   "outputs": [
    {
     "data": {
      "text/plain": [
       "[1, 4, 9]"
      ]
     },
     "execution_count": 11,
     "metadata": {},
     "output_type": "execute_result"
    }
   ],
   "source": [
    "list(map(lambda x: x * x, [1, 2, 3]))"
   ]
  },
  {
   "cell_type": "markdown",
   "metadata": {},
   "source": [
    "### lambda 表示匿名函数，x 表示函数参数，x * x 表示函数\n",
    "\n",
    "`lambda args: expression using args`"
   ]
  },
  {
   "cell_type": "markdown",
   "metadata": {
    "ExecuteTime": {
     "end_time": "2019-06-13T02:39:23.470569Z",
     "start_time": "2019-06-13T02:39:23.465569Z"
    }
   },
   "source": [
    "## 练习\n",
    "\n",
    "> 使用 `filter` 函数和匿名函数，输出列表中所有的偶数 "
   ]
  },
  {
   "cell_type": "code",
   "execution_count": 13,
   "metadata": {
    "ExecuteTime": {
     "end_time": "2019-06-13T02:59:59.075241Z",
     "start_time": "2019-06-13T02:59:59.070241Z"
    }
   },
   "outputs": [
    {
     "data": {
      "text/plain": [
       "45"
      ]
     },
     "execution_count": 13,
     "metadata": {},
     "output_type": "execute_result"
    }
   ],
   "source": [
    "from functools import reduce\n",
    "\n",
    "list_a = [x for x in range(1, 10)]\n",
    "\n",
    "# r = filter(lambda x: x % 2 == 0, list_a)\n",
    "\n",
    "# list(r)\n",
    "\n",
    "reduce(lambda x, y: x + y, list_a)\n",
    "\n",
    "# out: [2, 4, 6, 8]"
   ]
  }
 ],
 "metadata": {
  "kernelspec": {
   "display_name": "Python 3",
   "language": "python",
   "name": "python3"
  },
  "language_info": {
   "codemirror_mode": {
    "name": "ipython",
    "version": 3
   },
   "file_extension": ".py",
   "mimetype": "text/x-python",
   "name": "python",
   "nbconvert_exporter": "python",
   "pygments_lexer": "ipython3",
   "version": "3.7.3"
  },
  "toc": {
   "base_numbering": 1,
   "nav_menu": {},
   "number_sections": true,
   "sideBar": true,
   "skip_h1_title": false,
   "title_cell": "Table of Contents",
   "title_sidebar": "Contents",
   "toc_cell": false,
   "toc_position": {},
   "toc_section_display": true,
   "toc_window_display": false
  }
 },
 "nbformat": 4,
 "nbformat_minor": 2
}
