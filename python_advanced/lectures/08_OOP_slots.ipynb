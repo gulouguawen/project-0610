{
 "cells": [
  {
   "cell_type": "markdown",
   "metadata": {},
   "source": [
    "# Python Adv\n",
    "\n",
    "## OOP `__slots__`"
   ]
  },
  {
   "cell_type": "markdown",
   "metadata": {},
   "source": [
    "## Python 的动态绑定 \n",
    "\n",
    "> `Dynamitcally created attributes`"
   ]
  },
  {
   "cell_type": "code",
   "execution_count": 2,
   "metadata": {
    "ExecuteTime": {
     "end_time": "2019-06-17T05:45:03.222753Z",
     "start_time": "2019-06-17T05:45:03.214752Z"
    }
   },
   "outputs": [
    {
     "data": {
      "text/plain": [
       "'Tom'"
      ]
     },
     "execution_count": 2,
     "metadata": {},
     "output_type": "execute_result"
    }
   ],
   "source": [
    "class Human(object):\n",
    "    pass\n",
    "\n",
    "\n",
    "tom = Human()\n",
    "tom.name = 'Tom'\n",
    "\n",
    "tom.name"
   ]
  },
  {
   "cell_type": "code",
   "execution_count": 3,
   "metadata": {
    "ExecuteTime": {
     "end_time": "2019-06-17T06:27:03.378897Z",
     "start_time": "2019-06-17T06:27:03.366897Z"
    }
   },
   "outputs": [
    {
     "data": {
      "text/plain": [
       "'Tom'"
      ]
     },
     "execution_count": 3,
     "metadata": {},
     "output_type": "execute_result"
    }
   ],
   "source": [
    "from types import MethodType\n",
    "\n",
    "def get_name(self):\n",
    "    return self.name\n",
    "\n",
    "tom.get_name = MethodType(get_name, tom)\n",
    "\n",
    "tom.get_name()"
   ]
  },
  {
   "cell_type": "code",
   "execution_count": 5,
   "metadata": {
    "ExecuteTime": {
     "end_time": "2019-06-17T06:28:21.250351Z",
     "start_time": "2019-06-17T06:28:21.232350Z"
    }
   },
   "outputs": [
    {
     "name": "stdout",
     "output_type": "stream",
     "text": [
      "test...\n"
     ]
    }
   ],
   "source": [
    "def test(self):\n",
    "    print('test...')\n",
    "    \n",
    "    \n",
    "Human.test = test\n",
    "\n",
    "jerry = Human()\n",
    "\n",
    "jerry.test()"
   ]
  },
  {
   "cell_type": "markdown",
   "metadata": {},
   "source": [
    "## `__slots__` 限制动态绑定属性\n",
    "\n",
    "> 仅对当前类起作用，对子类不起作用\n",
    "\n",
    "> `Faster attribute access`\n",
    "\n",
    "> `Space savings in memory`"
   ]
  },
  {
   "cell_type": "code",
   "execution_count": 6,
   "metadata": {
    "ExecuteTime": {
     "end_time": "2019-06-17T06:31:45.909057Z",
     "start_time": "2019-06-17T06:31:45.905057Z"
    }
   },
   "outputs": [],
   "source": [
    "class Human(object):\n",
    "    __slots__ = ('name', 'age', 'gender')"
   ]
  },
  {
   "cell_type": "code",
   "execution_count": 15,
   "metadata": {
    "ExecuteTime": {
     "end_time": "2019-06-14T09:06:25.342418Z",
     "start_time": "2019-06-14T09:06:25.334418Z"
    }
   },
   "outputs": [
    {
     "data": {
      "text/plain": [
       "'Tom'"
      ]
     },
     "execution_count": 15,
     "metadata": {},
     "output_type": "execute_result"
    }
   ],
   "source": [
    "tom = Human()\n",
    "tom.name = 'Tom'\n",
    "\n",
    "tom.name"
   ]
  },
  {
   "cell_type": "code",
   "execution_count": 8,
   "metadata": {
    "ExecuteTime": {
     "end_time": "2019-06-17T06:32:03.709075Z",
     "start_time": "2019-06-17T06:32:03.692074Z"
    }
   },
   "outputs": [
    {
     "ename": "AttributeError",
     "evalue": "'Human' object has no attribute 'height'",
     "output_type": "error",
     "traceback": [
      "\u001b[1;31m---------------------------------------------------------------------------\u001b[0m",
      "\u001b[1;31mAttributeError\u001b[0m                            Traceback (most recent call last)",
      "\u001b[1;32m<ipython-input-8-8d3c823b9af4>\u001b[0m in \u001b[0;36m<module>\u001b[1;34m\u001b[0m\n\u001b[0;32m      1\u001b[0m \u001b[0mjerry\u001b[0m \u001b[1;33m=\u001b[0m \u001b[0mHuman\u001b[0m\u001b[1;33m(\u001b[0m\u001b[1;33m)\u001b[0m\u001b[1;33m\u001b[0m\u001b[1;33m\u001b[0m\u001b[0m\n\u001b[1;32m----> 2\u001b[1;33m \u001b[0mjerry\u001b[0m\u001b[1;33m.\u001b[0m\u001b[0mheight\u001b[0m \u001b[1;33m=\u001b[0m \u001b[1;36m1.6\u001b[0m\u001b[1;33m\u001b[0m\u001b[1;33m\u001b[0m\u001b[0m\n\u001b[0m\u001b[0;32m      3\u001b[0m \u001b[1;33m\u001b[0m\u001b[0m\n\u001b[0;32m      4\u001b[0m \u001b[0mjerry\u001b[0m\u001b[1;33m.\u001b[0m\u001b[0mheight\u001b[0m\u001b[1;33m\u001b[0m\u001b[1;33m\u001b[0m\u001b[0m\n",
      "\u001b[1;31mAttributeError\u001b[0m: 'Human' object has no attribute 'height'"
     ]
    }
   ],
   "source": [
    "jerry = Human()\n",
    "jerry.height = 1.6\n",
    "\n",
    "jerry.height"
   ]
  },
  {
   "cell_type": "markdown",
   "metadata": {},
   "source": [
    "## 练习 \n",
    "\n",
    "> 仅对当前类起作用，对子类不起作用\n",
    "\n",
    "## 自学\n",
    "\n",
    "> `timeit` `repeat()`\n",
    "\n",
    "> `sys` `getsizeof()`"
   ]
  },
  {
   "cell_type": "raw",
   "metadata": {
    "ExecuteTime": {
     "end_time": "2019-06-17T08:32:17.936705Z",
     "start_time": "2019-06-17T08:32:17.927705Z"
    }
   },
   "source": [
    "# 验证 __slots__ 对子类不起作用\n"
   ]
  },
  {
   "cell_type": "code",
   "execution_count": 3,
   "metadata": {
    "ExecuteTime": {
     "end_time": "2019-06-18T00:44:18.768466Z",
     "start_time": "2019-06-18T00:44:18.752465Z"
    }
   },
   "outputs": [
    {
     "data": {
      "text/plain": [
       "'Jerry'"
      ]
     },
     "execution_count": 3,
     "metadata": {},
     "output_type": "execute_result"
    }
   ],
   "source": [
    "class Human(object):\n",
    "    \n",
    "    __slots__ = ('name',)\n",
    "    \n",
    "tom = Human()\n",
    "\n",
    "tom.name = 'Tom'\n",
    "\n",
    "tom.name\n",
    "\n",
    "# tom.age = 18\n",
    "\n",
    "# tom.age\n",
    "\n",
    "class Chinese(Human):\n",
    "    __slots__ = Human.__slots__\n",
    "#     __slots__ = ('test',)\n",
    "    pass\n",
    "\n",
    "jerry = Chinese()\n",
    "\n",
    "jerry.name = 'Jerry'\n",
    "\n",
    "jerry.name\n",
    "\n",
    "# jerry.age = 19\n",
    "\n",
    "# jerry.age\n",
    "\n",
    "# jerry.gender = 'female'\n",
    "\n",
    "# jerry.gender"
   ]
  }
 ],
 "metadata": {
  "kernelspec": {
   "display_name": "Python 3",
   "language": "python",
   "name": "python3"
  },
  "language_info": {
   "codemirror_mode": {
    "name": "ipython",
    "version": 3
   },
   "file_extension": ".py",
   "mimetype": "text/x-python",
   "name": "python",
   "nbconvert_exporter": "python",
   "pygments_lexer": "ipython3",
   "version": "3.7.3"
  },
  "toc": {
   "base_numbering": 1,
   "nav_menu": {},
   "number_sections": true,
   "sideBar": true,
   "skip_h1_title": false,
   "title_cell": "Table of Contents",
   "title_sidebar": "Contents",
   "toc_cell": false,
   "toc_position": {},
   "toc_section_display": true,
   "toc_window_display": false
  }
 },
 "nbformat": 4,
 "nbformat_minor": 2
}
